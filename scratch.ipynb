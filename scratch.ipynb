{
 "cells": [
  {
   "cell_type": "code",
   "execution_count": 12,
   "metadata": {},
   "outputs": [],
   "source": [
    "%load_ext autoreload\n",
    "%reload_ext autoreload\n",
    "%autoreload 2"
   ]
  },
  {
   "cell_type": "code",
   "execution_count": 11,
   "metadata": {},
   "outputs": [],
   "source": [
    "%matplotlib inline\n",
    "\n",
    "import numpy as np\n",
    "from matplotlib import pyplot as plt\n",
    "from pathlib import Path"
   ]
  },
  {
   "cell_type": "code",
   "execution_count": 20,
   "metadata": {},
   "outputs": [],
   "source": [
    "from src.run import H_CONFIG, IMAGE_GPT_CONFIGS"
   ]
  },
  {
   "cell_type": "code",
   "execution_count": 17,
   "metadata": {},
   "outputs": [],
   "source": [
    "_here = Path('.').resolve()"
   ]
  },
  {
   "cell_type": "code",
   "execution_count": 21,
   "metadata": {},
   "outputs": [],
   "source": [
    "args = { **H_CONFIG, **IMAGE_GPT_CONFIGS['s'] }"
   ]
  },
  {
   "cell_type": "code",
   "execution_count": 22,
   "metadata": {},
   "outputs": [
    {
     "data": {
      "text/plain": [
       "{'data_path': './data/',\n",
       " 'ckpt_path': './ckpt/',\n",
       " 'color_cluster_path': './quants/',\n",
       " 'save_dir': './results/',\n",
       " 'n_sub_batch': 8,\n",
       " 'n_gpu': 1,\n",
       " 'n_px': 32,\n",
       " 'eval': False,\n",
       " 'sample': False,\n",
       " 'seed': 42,\n",
       " 'n_ctx': 1024,\n",
       " 'n_embd': 512,\n",
       " 'n_head': 8,\n",
       " 'n_layer': 24,\n",
       " 'n_vocab': 256,\n",
       " 'bert': True,\n",
       " 'bert_mask_prob': 0.15,\n",
       " 'clf': False}"
      ]
     },
     "execution_count": 22,
     "metadata": {},
     "output_type": "execute_result"
    }
   ],
   "source": [
    "args"
   ]
  },
  {
   "cell_type": "code",
   "execution_count": 10,
   "metadata": {},
   "outputs": [
    {
     "data": {
      "text/plain": [
       "1"
      ]
     },
     "execution_count": 10,
     "metadata": {},
     "output_type": "execute_result"
    }
   ],
   "source": [
    "g.a"
   ]
  }
 ],
 "metadata": {
  "kernelspec": {
   "display_name": "attila",
   "language": "python",
   "name": "attila"
  },
  "language_info": {
   "codemirror_mode": {
    "name": "ipython",
    "version": 3
   },
   "file_extension": ".py",
   "mimetype": "text/x-python",
   "name": "python",
   "nbconvert_exporter": "python",
   "pygments_lexer": "ipython3",
   "version": "3.8.5"
  }
 },
 "nbformat": 4,
 "nbformat_minor": 4
}
